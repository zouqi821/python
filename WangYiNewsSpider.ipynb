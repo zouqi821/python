{
 "cells": [
  {
   "cell_type": "code",
   "execution_count": 48,
   "metadata": {},
   "outputs": [],
   "source": [
    "import os\n",
    "import sys\n",
    "import requests\n",
    "import re\n",
    "from lxml import etree\n",
    "\n",
    "def StringListSave(save_path, filename, slist):\n",
    "    if not os.path.exists(save_path):\n",
    "        os.makedirs(save_path)\n",
    "    path = save_path+\"/\"+filename+\".txt\"\n",
    "    with open(path, \"w+\") as fp:\n",
    "        for url,item in slist:\n",
    "            fp.write(\"%s\\t\\t%s\\n\" % (url.encode(\"utf8\"), item));\n",
    "            \n",
    "def spiderUrl(url):\n",
    "    myPage = requests.get(url).content.decode('gbk')\n",
    "    mypage_Info = re.findall(r'<div class=\"titleBar\" id=\".*?\"><h2>(.*?)</h2><div class=\"more\"><a href=\"(.*?)\">更多</a></div></div>',myPage)\n",
    "    for item,url in mypage_Info:\n",
    "        spiderSecond(url,item);\n",
    "        \n",
    "def spiderSecond(secondUrl,item):\n",
    "    mypage = requests.get(url).content.decode('gbk')\n",
    "    mypage_info = re.findall(r'<tr><td class=\".*?\"><span>.*?</span><a href=\"(.*?)\">(.*?)</a></td><td class=\".*?\">.*?</td></tr>',mypage)\n",
    "    path = 'C:/Users/85423/Desktop/pythonStudy/spider/wangYiNews'\n",
    "    filename = item\n",
    "    StringListSave(path,filename,mypage_info);\n",
    "            \n",
    "\n",
    "        \n",
    "        \n",
    "url = \"http://news.163.com/rank/\"\n",
    "spiderUrl(url);\n",
    "#secondUrl=\"http://news.163.com/special/0001386F/rank_whole.html\"\n",
    "#spiderSecond(secondUrl,'1')"
   ]
  },
  {
   "cell_type": "code",
   "execution_count": null,
   "metadata": {},
   "outputs": [],
   "source": []
  }
 ],
 "metadata": {
  "kernelspec": {
   "display_name": "Python 3",
   "language": "python",
   "name": "python3"
  },
  "language_info": {
   "codemirror_mode": {
    "name": "ipython",
    "version": 3
   },
   "file_extension": ".py",
   "mimetype": "text/x-python",
   "name": "python",
   "nbconvert_exporter": "python",
   "pygments_lexer": "ipython3",
   "version": "3.6.4"
  }
 },
 "nbformat": 4,
 "nbformat_minor": 2
}
